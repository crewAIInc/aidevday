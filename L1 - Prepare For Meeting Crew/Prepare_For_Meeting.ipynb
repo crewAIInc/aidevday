{
 "cells": [
  {
   "cell_type": "markdown",
   "metadata": {},
   "source": [
    "# Building a Crew to Prepare for Meetings"
   ]
  },
  {
   "cell_type": "markdown",
   "metadata": {},
   "source": [
    "### Install Dependencies"
   ]
  },
  {
   "cell_type": "code",
   "execution_count": null,
   "metadata": {},
   "outputs": [],
   "source": [
    "# Create reusable loading animation class\n",
    "import os\n",
    "import sys\n",
    "import time\n",
    "import threading\n",
    "\n",
    "class LoadingAnimation:\n",
    "    def __init__(self):\n",
    "        self.stop_event = threading.Event()\n",
    "        self.animation_thread = None\n",
    "\n",
    "    def _animate(self, message=\"Loading\"):\n",
    "        chars = \"/—\\\\|\"\n",
    "        while not self.stop_event.is_set():\n",
    "            for char in chars:\n",
    "                sys.stdout.write('\\r' + message + '... ' + char)\n",
    "                sys.stdout.flush()\n",
    "                time.sleep(0.1)\n",
    "                if self.stop_event.is_set():\n",
    "                    sys.stdout.write(\"\\n\")\n",
    "                    break\n",
    "\n",
    "    def start(self, message=\"Loading\"):\n",
    "        self.stop_event.clear()\n",
    "        self.animation_thread = threading.Thread(target=self._animate, args=(message,))\n",
    "        self.animation_thread.daemon = True\n",
    "        self.animation_thread.start()\n",
    "\n",
    "    def stop(self, completion_message=\"Complete\"):\n",
    "        self.stop_event.set()\n",
    "        if self.animation_thread:\n",
    "            self.animation_thread.join()\n",
    "        print(f\"\\r{completion_message} ✓\")\n",
    "\n",
    "# Use the animation for pip install\n",
    "loader = LoadingAnimation()\n",
    "loader.start(\"Installing\")\n",
    "%pip install -r requirements.txt -q\n",
    "loader.stop(\"Installation complete\")"
   ]
  },
  {
   "cell_type": "markdown",
   "metadata": {},
   "source": [
    "### Helper Functions"
   ]
  },
  {
   "cell_type": "code",
   "execution_count": 2,
   "metadata": {},
   "outputs": [],
   "source": [
    "import dotenv\n",
    "from dotenv import dotenv_values\n",
    "\n",
    "# Define a fake `load_dotenv` function\n",
    "def _load_dotenv(*args, **kwargs):\n",
    "    env_path = kwargs.get('dotenv_path', '.env')  # Default to '.env'\n",
    "    parsed_env = dotenv_values(env_path)\n",
    "\n",
    "    # Manually set valid key-value pairs\n",
    "    for key, value in parsed_env.items():\n",
    "        if key and value:  # Check for valid key-value pairs\n",
    "            os.environ[key] = value\n",
    "\n",
    "dotenv.load_dotenv = _load_dotenv"
   ]
  },
  {
   "cell_type": "markdown",
   "metadata": {},
   "source": [
    "### Initialization and Setup\n",
    "Initial imports for the CrewAI Flow and Crew and setting up the environment"
   ]
  },
  {
   "cell_type": "code",
   "execution_count": null,
   "metadata": {},
   "outputs": [],
   "source": [
    "# Importing necessary libraries\n",
    "import os\n",
    "import yaml\n",
    "\n",
    "# Importing Crew related components\n",
    "from crewai import Agent, Task, Crew, Process\n",
    "from crewai_tools import SerperDevTool, ScrapeWebsiteTool\n",
    "\n",
    "# Apply a patch to allow nested asyncio loops in Jupyter\n",
    "import nest_asyncio\n",
    "nest_asyncio.apply()"
   ]
  },
  {
   "cell_type": "code",
   "execution_count": 4,
   "metadata": {},
   "outputs": [],
   "source": [
    "# Create output directory if it doesn't exist\n",
    "os.makedirs('output', exist_ok=True)\n",
    "\n",
    "# Load agent and task configurations from YAML files\n",
    "with open('config/agents.yml', 'r') as f:\n",
    "    agents_config = yaml.safe_load(f)\n",
    "\n",
    "with open('config/tasks.yml', 'r') as f:\n",
    "    tasks_config = yaml.safe_load(f)\n",
    "\n",
    "# Define the agents for our meeting preparation crew\n",
    "researcher = Agent(\n",
    "    role=agents_config['researcher']['role'],\n",
    "    goal=agents_config['researcher']['goal'],\n",
    "    backstory=agents_config['researcher']['backstory'],\n",
    "    verbose=True,\n",
    "    tools=[SerperDevTool(), ScrapeWebsiteTool()]  # Web search and document analysis tools\n",
    ")\n",
    "\n",
    "analyst = Agent(\n",
    "    role=agents_config['analyst']['role'],\n",
    "    goal=agents_config['analyst']['goal'],\n",
    "    backstory=agents_config['analyst']['backstory'],\n",
    "    verbose=True,\n",
    ")\n",
    "\n",
    "# Define the tasks for our crew\n",
    "research_task = Task(\n",
    "    description=tasks_config['research_task']['description'],\n",
    "    expected_output=tasks_config['research_task']['expected_output'],\n",
    "    agent=researcher,\n",
    ")\n",
    "\n",
    "preparation_task = Task(\n",
    "    description=tasks_config['preparation_task']['description'],\n",
    "    expected_output=tasks_config['preparation_task']['expected_output'],\n",
    "    agent=analyst,\n",
    "    output_file=\"output/meeting_brief.md\"\n",
    ")\n",
    "\n",
    "# Create the crew\n",
    "meeting_prep_crew = Crew(\n",
    "    agents=[researcher, analyst],\n",
    "    tasks=[research_task, preparation_task],\n",
    "    process=Process.sequential,\n",
    "    verbose=True\n",
    ")"
   ]
  },
  {
   "cell_type": "code",
   "execution_count": null,
   "metadata": {},
   "outputs": [],
   "source": [
    "# If inputs are not provided, ask for them\n",
    "meeting_topic = input(\"Enter the meeting topic: \")\n",
    "participants = input(\"Enter the meeting participants: \")\n",
    "\n",
    "print(f\"\\nPreparing for meeting about: {meeting_topic}\")\n",
    "print(f\"Participants: {participants}\\n\")\n",
    "\n",
    "# Run the crew with the provided inputs\n",
    "result = meeting_prep_crew.kickoff(inputs={\n",
    "    \"topic\": meeting_topic,\n",
    "    \"participants\": participants\n",
    "})\n",
    "\n",
    "print(\"\\n\\nMeeting brief has been saved to output/meeting_brief.md\")\n",
    "# Display the markdown content in a formatted way\n",
    "from IPython.display import Markdown, display\n",
    "\n",
    "# Display the raw result as formatted markdown\n",
    "display(Markdown(result.raw))"
   ]
  },
  {
   "cell_type": "code",
   "execution_count": null,
   "metadata": {},
   "outputs": [],
   "source": []
  }
 ],
 "metadata": {
  "kernelspec": {
   "display_name": "Python 3",
   "language": "python",
   "name": "python3"
  },
  "language_info": {
   "codemirror_mode": {
    "name": "ipython",
    "version": 3
   },
   "file_extension": ".py",
   "mimetype": "text/x-python",
   "name": "python",
   "nbconvert_exporter": "python",
   "pygments_lexer": "ipython3",
   "version": "3.11.7"
  }
 },
 "nbformat": 4,
 "nbformat_minor": 2
}
