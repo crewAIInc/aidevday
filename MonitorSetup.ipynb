{
 "cells": [
  {
   "cell_type": "code",
   "execution_count": null,
   "id": "11638b5c-9d7b-4d19-b7c9-d7e07adaa69e",
   "metadata": {},
   "outputs": [],
   "source": [
    "         1         2         3         4         5         6         7  \n",
    "#23456789012345678901234567890123456789012345678901234567890123456789012"
   ]
  },
  {
   "cell_type": "markdown",
   "id": "5d17f680-a9ac-4433-9228-93dfe1b1d038",
   "metadata": {},
   "source": [
    "Monitor: LG 32UN550\n",
    "monitor res setting: 1920x1080\n",
    "chrome zoom at 125%\n",
    "camtasia: 1460x1642"
   ]
  },
  {
   "cell_type": "code",
   "execution_count": null,
   "id": "2938018a-527a-46c0-89a3-6a811ab4a48a",
   "metadata": {},
   "outputs": [],
   "source": [
    "Monitor: LG 32UN550\n",
    "monitor res setting: 2560x1440\n",
    "chrome zoom at 150%\n",
    "camtasia: 1780x2002 "
   ]
  },
  {
   "cell_type": "code",
   "execution_count": null,
   "id": "f9ff70b6-24a5-4063-aad8-74ca6f599b9e",
   "metadata": {},
   "outputs": [],
   "source": []
  },
  {
   "cell_type": "code",
   "execution_count": null,
   "id": "41d1ce58-9d2e-4349-acbd-49227e37d31c",
   "metadata": {},
   "outputs": [],
   "source": []
  },
  {
   "cell_type": "code",
   "execution_count": null,
   "id": "512fe011-1747-495b-9351-286b4e2f5c53",
   "metadata": {},
   "outputs": [],
   "source": []
  },
  {
   "cell_type": "code",
   "execution_count": null,
   "id": "0f171b23-b3cc-48c9-a8ba-07358e271e63",
   "metadata": {},
   "outputs": [],
   "source": []
  },
  {
   "cell_type": "code",
   "execution_count": null,
   "id": "9e00efd4-d48d-4dac-b629-ab6a4c198b73",
   "metadata": {},
   "outputs": [],
   "source": []
  },
  {
   "cell_type": "code",
   "execution_count": null,
   "id": "f58e827a-8e2e-4f1d-8f8c-9486828f951d",
   "metadata": {},
   "outputs": [],
   "source": []
  },
  {
   "cell_type": "code",
   "execution_count": null,
   "id": "c5dbcacb-b143-46d5-a649-27c0eb3b5cf6",
   "metadata": {},
   "outputs": [],
   "source": []
  }
 ],
 "metadata": {
  "kernelspec": {
   "display_name": "Python 3 (ipykernel)",
   "language": "python",
   "name": "python3"
  },
  "language_info": {
   "codemirror_mode": {
    "name": "ipython",
    "version": 3
   },
   "file_extension": ".py",
   "mimetype": "text/x-python",
   "name": "python",
   "nbconvert_exporter": "python",
   "pygments_lexer": "ipython3",
   "version": "3.9.6"
  }
 },
 "nbformat": 4,
 "nbformat_minor": 5
}
